{
 "cells": [
  {
   "cell_type": "code",
   "execution_count": null,
   "id": "a307888c-3a8a-40f5-a8e2-4430f3f26a2b",
   "metadata": {},
   "outputs": [],
   "source": [
    "!cd-hit-est -i lupinus_albus_transcriptome.fasta -o cd_hit_out.fasta -c 0.95 -n 5 -T 2 -M 30000"
   ]
  },
  {
   "cell_type": "code",
   "execution_count": null,
   "id": "6ca6dc71-be6e-4338-b3f6-d7ccd8ba1aed",
   "metadata": {},
   "outputs": [],
   "source": [
    "!/home/amogus/miniconda3/opt/trinity-2.15.1/util/misc/get_longest_isoform_seq_per_trinity_gene.pl /\n",
    "cd_hit_out.fasta > cd_hit_out_longest_is.fasta"
   ]
  },
  {
   "cell_type": "code",
   "execution_count": null,
   "id": "b0b6e93d-5d59-402f-8a12-695cd18a3692",
   "metadata": {},
   "outputs": [],
   "source": [
    "!busco -i cd_hit_out_longest_is.fasta /\n",
    "-l ~/busco_datasets/lineages/fabales_odb10 -o cd_hit_classic_busco_log -m tran --offline --cpu 20 -f &"
   ]
  },
  {
   "cell_type": "code",
   "execution_count": 5,
   "id": "a91f3fb7-42a7-46d6-90e8-56f9459366dd",
   "metadata": {},
   "outputs": [
    {
     "name": "stdout",
     "output_type": "stream",
     "text": [
      "\n",
      "[build] loading fasta file cd_hit_out_classic.fasta\n",
      "[build] k-mer length: 25\n",
      "[build] warning: clipped off poly-A tail (longer than 10)\n",
      "        from 2023 target sequences\n",
      "[build] counting k-mers ... done.\n",
      "[build] building target de Bruijn graph ...  done \n",
      "[build] creating equivalence classes ...  done\n",
      "[build] target de Bruijn graph has 2977904 contigs and contains 207722988 k-mers \n",
      "\n"
     ]
    }
   ],
   "source": [
    "!kallisto index -i cd_hit_out_classic -k 25 cd_hit_out_longest_is.fasta"
   ]
  },
  {
   "cell_type": "code",
   "execution_count": null,
   "id": "30d114c0-b97d-42b6-bb4e-d4eb059bec74",
   "metadata": {},
   "outputs": [],
   "source": [
    "!kallisto quant -i kallisto_index/cd_hit_out_classic -o quant/Andromeda_Rep1_139.1 --fr-stranded \\\n",
    "-g Lalbus-20171117r1-v1.annot.gtf \\\n",
    "test_link/Andromeda_Rep1_139.1_pairedR1.fastq.gz test_link/Andromeda_Rep1_139.1_pairedR2.fastq.gz"
   ]
  },
  {
   "cell_type": "code",
   "execution_count": null,
   "id": "3a2dd57d-3a95-4f24-b78a-dfcdca667944",
   "metadata": {},
   "outputs": [],
   "source": [
    "!kallisto quant -i kallisto_index/cd_hit_out_classic -o quant/Andromeda_Rep2_139.1 --fr-stranded \\\n",
    "-g Lalbus-20171117r1-v1.annot.gtf \\\n",
    "test_link/Andromeda_Rep2_139.1_pairedR1.fastq.gz test_link/Andromeda_Rep2_139.1_pairedR2.fastq.gz"
   ]
  },
  {
   "cell_type": "code",
   "execution_count": null,
   "id": "5eb52f4e-6b2b-4f24-b7bb-f80ff7d6a485",
   "metadata": {},
   "outputs": [],
   "source": [
    "!kallisto quant -i kallisto_index/cd_hit_out_classic -o quant/Andromeda_Rep3_139.1 --fr-stranded \\\n",
    "-g Lalbus-20171117r1-v1.annot.gtf \\\n",
    "test_link/Andromeda_Rep3_139.1_pairedR1.fastq.gz test_link/Andromeda_Rep3_139.1_pairedR2.fastq.gz"
   ]
  },
  {
   "cell_type": "code",
   "execution_count": null,
   "id": "475a9d14-bfef-4bfa-808f-d5afd399aa84",
   "metadata": {},
   "outputs": [],
   "source": [
    "!kallisto quant -i kallisto_index/cd_hit_out_classic -o quant/Andromeda_Rep1_Control --fr-stranded \\\n",
    "-g Lalbus-20171117r1-v1.annot.gtf \\\n",
    "test_link/Andromeda_Rep1_Control_pairedR1.fastq.gz test_link/Andromeda_Rep1_Control_pairedR2.fastq.gz "
   ]
  },
  {
   "cell_type": "code",
   "execution_count": null,
   "id": "6031f51d-14a4-4fe1-9938-71960051ab78",
   "metadata": {},
   "outputs": [],
   "source": [
    "!kallisto quant -i kallisto_index/cd_hit_out_classic -o quant/Andromeda_Rep2_Control --fr-stranded \\\n",
    "-g Lalbus-20171117r1-v1.annot.gtf \\\n",
    "test_link/Andromeda_Rep2_Control_pairedR1.fastq.gz test_link/Andromeda_Rep2_Control_pairedR2.fastq.gz "
   ]
  },
  {
   "cell_type": "code",
   "execution_count": null,
   "id": "31e711e8-7622-4f5f-8234-870286a15932",
   "metadata": {},
   "outputs": [],
   "source": [
    "!kallisto quant -i kallisto_index/cd_hit_out_classic -o quant/Andromeda_Rep3_Control --fr-stranded \\\n",
    "-g Lalbus-20171117r1-v1.annot.gtf \\\n",
    "test_link/Andromeda_Rep3_Control_pairedR1.fastq.gz test_link/Andromeda_Rep3_Control_pairedR2.fastq.gz "
   ]
  },
  {
   "cell_type": "code",
   "execution_count": null,
   "id": "a153aa30-05b5-4d52-b9c3-7db0fd94156b",
   "metadata": {},
   "outputs": [],
   "source": [
    "!kallisto quant -i kallisto_index/cd_hit_out_classic -o quant/Andromeda_Rep1_3.1 --fr-stranded \\\n",
    "-g Lalbus-20171117r1-v1.annot.gtf \\\n",
    "test_link/Andromeda_Rep1_3.1_pairedR1.fastq.gz test_link/Andromeda_Rep1_3.1_pairedR2.fastq.gz "
   ]
  },
  {
   "cell_type": "code",
   "execution_count": null,
   "id": "5bf83db7-3d03-4604-90d1-01e68ac64352",
   "metadata": {},
   "outputs": [],
   "source": [
    "!kallisto quant -i kallisto_index/cd_hit_out_classic -o quant/Andromeda_Rep2_3.1 --fr-stranded \\\n",
    "-g Lalbus-20171117r1-v1.annot.gtf \\\n",
    "test_link/Andromeda_Rep2_3.1_pairedR1.fastq.gz test_link/Andromeda_Rep2_3.1_pairedR2.fastq.gz "
   ]
  },
  {
   "cell_type": "code",
   "execution_count": null,
   "id": "a0d64ab0-9698-4049-a8f8-b39d744f8654",
   "metadata": {},
   "outputs": [],
   "source": [
    "!kallisto quant -i kallisto_index/cd_hit_out_classic -o quant/Andromeda_Rep3_3.1 --fr-stranded \\\n",
    "-g Lalbus-20171117r1-v1.annot.gtf \\\n",
    "test_link/Andromeda_Rep3_3.1_pairedR1.fastq.gz test_link/Andromeda_Rep3_3.1_pairedR2.fastq.gz "
   ]
  },
  {
   "cell_type": "code",
   "execution_count": null,
   "id": "0cf802c1-85cf-4f59-912d-d521dff9f6aa",
   "metadata": {},
   "outputs": [],
   "source": [
    "!kallisto quant -i kallisto_index/cd_hit_out_classic -o quant/Michurin_Rep1_139.1 --fr-stranded \\\n",
    "-g Lalbus-20171117r1-v1.annot.gtf \\\n",
    "test_link/Michurin_Rep1_139.1_pairedR1.fastq.gz test_link/Michurin_Rep1_139.1_pairedR2.fastq.gz"
   ]
  },
  {
   "cell_type": "code",
   "execution_count": null,
   "id": "c9f6b0d3-e821-471e-80e3-99e9ff298256",
   "metadata": {},
   "outputs": [],
   "source": [
    "!kallisto quant -i kallisto_index/cd_hit_out_classic -o quant/Michurin_Rep2_139.1 --fr-stranded \\\n",
    "-g Lalbus-20171117r1-v1.annot.gtf \\\n",
    "test_link/Michurin_Rep2_139.1_pairedR1.fastq.gz test_link/Michurin_Rep2_139.1_pairedR2.fastq.gz"
   ]
  },
  {
   "cell_type": "code",
   "execution_count": null,
   "id": "fafb5aec-6712-4848-95c5-8f1ffb38a830",
   "metadata": {},
   "outputs": [],
   "source": [
    "!kallisto quant -i kallisto_index/cd_hit_out_classic -o quant/Michurin_Rep3_139.1 --fr-stranded \\\n",
    "-g Lalbus-20171117r1-v1.annot.gtf \\\n",
    "test_link/Michurin_Rep3_139.1_pairedR1.fastq.gz test_link/Michurin_Rep3_139.1_pairedR2.fastq.gz"
   ]
  },
  {
   "cell_type": "code",
   "execution_count": null,
   "id": "4dc800a3-7b3c-47e2-b9b6-32c8b2374932",
   "metadata": {},
   "outputs": [],
   "source": [
    "!kallisto quant -i kallisto_index/cd_hit_out_classic -o quant/Michurin_Rep1_Control --fr-stranded \\\n",
    "-g Lalbus-20171117r1-v1.annot.gtf \\\n",
    "test_link/Michurin_Rep1_Control_pairedR1.fastq.gz test_link/Michurin_Rep1_Control_pairedR2.fastq.gz "
   ]
  },
  {
   "cell_type": "code",
   "execution_count": null,
   "id": "dc0aa629-98b1-48a1-89d1-246ce5ae83a8",
   "metadata": {},
   "outputs": [],
   "source": [
    "!kallisto quant -i kallisto_index/cd_hit_out_classic -o quant/Michurin_Rep2_Control --fr-stranded \\\n",
    "-g Lalbus-20171117r1-v1.annot.gtf \\\n",
    "test_link/Michurin_Rep2_Control_pairedR1.fastq.gz test_link/Michurin_Rep2_Control_pairedR2.fastq.gz "
   ]
  },
  {
   "cell_type": "code",
   "execution_count": null,
   "id": "c8eced34-9c0a-481c-b503-cb6822469c87",
   "metadata": {},
   "outputs": [],
   "source": [
    "!kallisto quant -i kallisto_index/cd_hit_out_classic -o quant/Michurin_Rep3_Control --fr-stranded \\\n",
    "-g Lalbus-20171117r1-v1.annot.gtf \\\n",
    "test_link/Michurin_Rep3_Control_pairedR1.fastq.gz test_link/Michurin_Rep3_Control_pairedR2.fastq.gz "
   ]
  },
  {
   "cell_type": "code",
   "execution_count": null,
   "id": "ab5654a3-26ec-4fef-b019-00d6c9ea23d8",
   "metadata": {},
   "outputs": [],
   "source": [
    "!kallisto quant -i kallisto_index/cd_hit_out_classic -o quant/Michurin_Rep1_3.1 --fr-stranded \\\n",
    "-g Lalbus-20171117r1-v1.annot.gtf \\\n",
    "test_link/Michurin_Rep1_3.1_pairedR1.fastq.gz test_link/Michurin_Rep1_3.1_pairedR2.fastq.gz "
   ]
  },
  {
   "cell_type": "code",
   "execution_count": null,
   "id": "a724acec-9d25-452f-8c4a-a35b63e7a184",
   "metadata": {},
   "outputs": [],
   "source": [
    "!kallisto quant -i kallisto_index/cd_hit_out_classic -o quant/Michurin_Rep2_3.1 --fr-stranded \\\n",
    "-g Lalbus-20171117r1-v1.annot.gtf \\\n",
    "test_link/Michurin_Rep2_3.1_pairedR1.fastq.gz test_link/Michurin_Rep2_3.1_pairedR2.fastq.gz "
   ]
  },
  {
   "cell_type": "code",
   "execution_count": null,
   "id": "39f42533-bd36-4978-aebf-fe77a322cc5f",
   "metadata": {},
   "outputs": [],
   "source": [
    "!kallisto quant -i kallisto_index/cd_hit_out_classic -o quant/Michurin_Rep3_3.1 --fr-stranded \\\n",
    "-g Lalbus-20171117r1-v1.annot.gtf \\\n",
    "test_link/Michurin_Rep3_3.1_pairedR1.fastq.gz test_link/Michurin_Rep3_3.1_pairedR2.fastq.gz "
   ]
  },
  {
   "cell_type": "code",
   "execution_count": null,
   "id": "651dba15-8be1-45ef-9b1f-e3562ca3d648",
   "metadata": {},
   "outputs": [],
   "source": [
    "!kallisto quant -i kallisto_index/cd_hit_out_classic -o quant/SN_Rep1_Control --fr-stranded \\\n",
    "-g Lalbus-20171117r1-v1.annot.gtf \\\n",
    "test_link/SN_Rep1_Control_pairedR1.fastq.gz test_link/SN_Rep1_Control_pairedR2.fastq.gz "
   ]
  },
  {
   "cell_type": "code",
   "execution_count": null,
   "id": "25cefcb4-a4f8-4f95-b598-dbdea540226e",
   "metadata": {},
   "outputs": [],
   "source": [
    "!kallisto quant -i kallisto_index/cd_hit_out_classic -o quant/SN_Rep2_Control --fr-stranded \\\n",
    "-g Lalbus-20171117r1-v1.annot.gtf \\\n",
    "test_link/SN_Rep2_Control_pairedR1.fastq.gz test_link/SN_Rep2_Control_pairedR2.fastq.gz "
   ]
  },
  {
   "cell_type": "code",
   "execution_count": null,
   "id": "224bb96c-a183-437f-bd99-bb0e0b4d8106",
   "metadata": {},
   "outputs": [],
   "source": [
    "!kallisto quant -i kallisto_index/cd_hit_out_classic -o quant/SN_Rep3_Control --fr-stranded \\\n",
    "-g Lalbus-20171117r1-v1.annot.gtf \\\n",
    "test_link/SN_Rep3_Control_pairedR1.fastq.gz test_link/SN_Rep3_Control_pairedR2.fastq.gz "
   ]
  },
  {
   "cell_type": "code",
   "execution_count": null,
   "id": "843909bf-70d9-45b1-9f23-fa63a2ec6fc8",
   "metadata": {},
   "outputs": [],
   "source": [
    "!kallisto quant -i kallisto_index/cd_hit_out_classic -o quant/SN_Rep1_139.1 --fr-stranded \\\n",
    "-g Lalbus-20171117r1-v1.annot.gtf \\\n",
    "test_link/SN_Rep1_139.1_pairedR1.fastq.gz test_link/SN_Rep1_139.1_pairedR2.fastq.gz "
   ]
  },
  {
   "cell_type": "code",
   "execution_count": null,
   "id": "ed47dc92-a67b-412f-abb1-1cfb12631736",
   "metadata": {},
   "outputs": [],
   "source": [
    "!kallisto quant -i kallisto_index/cd_hit_out_classic -o quant/SN_Rep2_139.1 --fr-stranded \\\n",
    "-g Lalbus-20171117r1-v1.annot.gtf \\\n",
    "test_link/SN_Rep2_139.1_pairedR1.fastq.gz test_link/SN_Rep2_139.1_pairedR2.fastq.gz "
   ]
  },
  {
   "cell_type": "code",
   "execution_count": null,
   "id": "2c9a5bb5-6f59-4e43-9559-b757de9a5308",
   "metadata": {},
   "outputs": [],
   "source": [
    "!kallisto quant -i kallisto_index/cd_hit_out_classic -o quant/SN_Rep3_139.1 --fr-stranded \\\n",
    "-g Lalbus-20171117r1-v1.annot.gtf \\\n",
    "test_link/SN_Rep3_139.1_pairedR1.fastq.gz test_link/SN_Rep3_139.1_pairedR2.fastq.gz "
   ]
  },
  {
   "cell_type": "code",
   "execution_count": null,
   "id": "bd0f7de0-50d8-4860-8018-d447a40342fb",
   "metadata": {},
   "outputs": [],
   "source": [
    "!kallisto quant -i kallisto_index/cd_hit_out_classic -o quant/SN_Rep1_3.1 --fr-stranded \\\n",
    "-g Lalbus-20171117r1-v1.annot.gtf \\\n",
    "test_link/SN_Rep1_3.1_pairedR1.fastq.gz test_link/SN_Rep1_3.1_pairedR2.fastq.gz "
   ]
  },
  {
   "cell_type": "code",
   "execution_count": null,
   "id": "7d42e02f-0d0f-46e9-8ac9-0d01a5217389",
   "metadata": {},
   "outputs": [],
   "source": [
    "!kallisto quant -i kallisto_index/cd_hit_out_classic -o quant/SN_Rep2_3.1 --fr-stranded \\\n",
    "-g Lalbus-20171117r1-v1.annot.gtf \\\n",
    "test_link/SN_Rep2_3.1_pairedR1.fastq.gz test_link/SN_Rep2_3.1_pairedR2.fastq.gz "
   ]
  },
  {
   "cell_type": "code",
   "execution_count": null,
   "id": "8361756e-4396-47f9-9d4c-3723294def3e",
   "metadata": {},
   "outputs": [],
   "source": [
    "!kallisto quant -i kallisto_index/cd_hit_out_classic -o quant/SN_Rep3_3.1 --fr-stranded \\\n",
    "-g Lalbus-20171117r1-v1.annot.gtf \\\n",
    "test_link/SN_Rep3_3.1_pairedR1.fastq.gz test_link/SN_Rep3_3.1_pairedR2.fastq.gz "
   ]
  },
  {
   "cell_type": "code",
   "execution_count": 9,
   "id": "be80ac19-6248-47ac-b520-731040ee4e01",
   "metadata": {},
   "outputs": [
    {
     "name": "stdout",
     "output_type": "stream",
     "text": [
      "--2024-10-01 11:33:33--  https://www.whitelupin.fr/genome_files/Lalbus-20171117r1-v1.annot.gff3\n",
      "Resolving www.whitelupin.fr (www.whitelupin.fr)... 147.99.66.3\n",
      "Connecting to www.whitelupin.fr (www.whitelupin.fr)|147.99.66.3|:443... connected.\n",
      "HTTP request sent, awaiting response... 200 OK\n",
      "Length: 73736079 (70M) [text/gff3]\n",
      "Saving to: ‘Lalbus-20171117r1-v1.annot.gff3’\n",
      "\n",
      "Lalbus-20171117r1-v 100%[===================>]  70.32M   207KB/s    in 90s     \n",
      "\n",
      "2024-10-01 11:35:04 (802 KB/s) - ‘Lalbus-20171117r1-v1.annot.gff3’ saved [73736079/73736079]\n",
      "\n"
     ]
    }
   ],
   "source": [
    "!wget https://www.whitelupin.fr/genome_files/Lalbus-20171117r1-v1.annot.gff3"
   ]
  },
  {
   "cell_type": "code",
   "execution_count": 10,
   "id": "c359d916-dbc8-4ed1-8d5d-c0b1476eff07",
   "metadata": {},
   "outputs": [
    {
     "name": "stdout",
     "output_type": "stream",
     "text": [
      "Lalb_Chr00c63\tEuGene\tmRNA\t20649\t21888\t.\t-\t.\tID=mRNA:Lalb_Chr00c63g0413851;Name=Lalb_Chr00c63g0413851;locus_tag=Lalb_Chr00c63g0413851;Parent=gene:Lalb_Chr00c63g0413851;product=Putative%20mediator%20complex%2C%20subunit%20Med25%2C%20von%20Willebrand%20factor%20type%20A;\n",
      "Lalb_Chr00c63\tEuGene\texon\t20649\t20885\t.\t-\t0\tID=exon:Lalb_Chr00c63g0413851.2;Parent=mRNA:Lalb_Chr00c63g0413851;\n",
      "Lalb_Chr00c63\tEuGene\texon\t21730\t21888\t.\t-\t0\tID=exon:Lalb_Chr00c63g0413851.1;Parent=mRNA:Lalb_Chr00c63g0413851;\n",
      "Lalb_Chr00c63\tEuGene\tCDS\t20649\t20885\t.\t-\t0\tID=CDS:Lalb_Chr00c63g0413851.2;Parent=mRNA:Lalb_Chr00c63g0413851;est_cons=0.0;est_incons=0.0;\n",
      "Lalb_Chr00c63\tEuGene\tCDS\t21730\t21888\t.\t-\t0\tID=CDS:Lalb_Chr00c63g0413851.1;Parent=mRNA:Lalb_Chr00c63g0413851;est_cons=0.0;est_incons=0.0;\n",
      "###\n",
      "##sequence-region Lalb_Chr00c64 1 17842\n",
      "Lalb_Chr00c64\tEuGene\tgene\t4905\t11063\t.\t-\t.\tID=gene:Lalb_Chr00c64g0413861;Name=Lalb_Chr00c64g0413861;locus_tag=Lalb_Chr00c64g0413861;\n",
      "Lalb_Chr00c64\tEuGene\tncRNA\t4905\t11063\t.\t-\t.\tID=ncRNA:Lalb_Chr00c64g0413861;Name=Lalb_Chr00c64g0413861;locus_tag=Lalb_Chr00c64g0413861;Parent=gene:Lalb_Chr00c64g0413861;\n",
      "###\n"
     ]
    }
   ],
   "source": [
    "!tail Lalbus-20171117r1-v1.annot.gff3"
   ]
  },
  {
   "cell_type": "code",
   "execution_count": 12,
   "id": "45e6a3ef-bb3d-428e-a449-d9f39c83ad04",
   "metadata": {},
   "outputs": [],
   "source": [
    "!gffread Lalbus-20171117r1-v1.annot.gff3 -T -o Lalbus-20171117r1-v1.annot.gtf"
   ]
  },
  {
   "cell_type": "code",
   "execution_count": null,
   "id": "e9739b6b-932e-4e55-bb94-eceff318e8cc",
   "metadata": {},
   "outputs": [],
   "source": []
  }
 ],
 "metadata": {
  "kernelspec": {
   "display_name": "kallisto",
   "language": "python",
   "name": "kallisto"
  },
  "language_info": {
   "codemirror_mode": {
    "name": "ipython",
    "version": 3
   },
   "file_extension": ".py",
   "mimetype": "text/x-python",
   "name": "python",
   "nbconvert_exporter": "python",
   "pygments_lexer": "ipython3",
   "version": "3.12.5"
  }
 },
 "nbformat": 4,
 "nbformat_minor": 5
}
